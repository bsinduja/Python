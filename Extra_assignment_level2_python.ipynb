{
 "cells": [
  {
   "cell_type": "code",
   "execution_count": 4,
   "id": "51429e26-5dde-42ef-b42f-d5ceb03995c1",
   "metadata": {},
   "outputs": [
    {
     "name": "stdout",
     "output_type": "stream",
     "text": [
      "0\n",
      "1\n",
      "2\n",
      "3\n",
      "4\n",
      "5\n",
      "6\n",
      "7\n",
      "8\n",
      "9\n",
      "10\n",
      "11\n",
      "12\n",
      "13\n",
      "14\n",
      "15\n",
      "16\n",
      "17\n",
      "18\n",
      "19\n"
     ]
    }
   ],
   "source": [
    "for n in range(20):\n",
    "    print(n)\n",
    "    "
   ]
  },
  {
   "cell_type": "code",
   "execution_count": 5,
   "id": "2965545e-ad17-4ff8-8ded-5504204dbff8",
   "metadata": {},
   "outputs": [
    {
     "name": "stdout",
     "output_type": "stream",
     "text": [
      "10\n",
      "11\n",
      "12\n",
      "13\n",
      "14\n",
      "15\n",
      "16\n",
      "17\n",
      "18\n",
      "19\n"
     ]
    }
   ],
   "source": [
    "for n in range(10,20):\n",
    "    print(n)"
   ]
  },
  {
   "cell_type": "code",
   "execution_count": 7,
   "id": "52ae02a1-f7d2-4bdc-8f10-0c78e8ef1d88",
   "metadata": {},
   "outputs": [
    {
     "name": "stdout",
     "output_type": "stream",
     "text": [
      "[10, 20, 14, 55, 43, 87, 76]\n",
      "Number of items in the List2: 7\n"
     ]
    }
   ],
   "source": [
    "num_list=[10, 20, 14, 55, 43, 87, 76]\n",
    "print (num_list)\n",
    "print(\"Number of items in the List2:\",len(num_list))"
   ]
  },
  {
   "cell_type": "code",
   "execution_count": 4,
   "id": "8e21e2ba-9c7b-45d4-aa37-27071f396f32",
   "metadata": {},
   "outputs": [
    {
     "name": "stdin",
     "output_type": "stream",
     "text": [
      "Enter elements separated by spaces:  Artificial Intelligence\n"
     ]
    },
    {
     "name": "stdout",
     "output_type": "stream",
     "text": [
      "A\n",
      "r\n",
      "t\n",
      "i\n",
      "f\n",
      "i\n",
      "c\n",
      "i\n",
      "a\n",
      "l\n",
      " \n",
      "I\n",
      "n\n",
      "t\n",
      "e\n",
      "l\n",
      "l\n",
      "i\n",
      "g\n",
      "e\n",
      "n\n",
      "c\n",
      "e\n"
     ]
    }
   ],
   "source": [
    "input_str = input(\"Enter elements separated by spaces: \")\n",
    "char_list = list(input_str)\n",
    "for s in char_list:\n",
    "    print(s)\n",
    "    \n"
   ]
  },
  {
   "cell_type": "code",
   "execution_count": 6,
   "id": "d3421f35-8fc3-46ee-87e3-f0c94cd5b616",
   "metadata": {},
   "outputs": [
    {
     "name": "stdout",
     "output_type": "stream",
     "text": [
      "(1, 'Welcome', 2, 'Hope')\n"
     ]
    }
   ],
   "source": [
    "tup = (1, 'Welcome', 2, 'Hope')\n",
    "print(tup)\n",
    "\n"
   ]
  },
  {
   "cell_type": "code",
   "execution_count": 7,
   "id": "e6c12666-3b47-467c-b3b0-33e63762617a",
   "metadata": {},
   "outputs": [
    {
     "name": "stdout",
     "output_type": "stream",
     "text": [
      "((0, 1, 2, 3), ('python', 'HOPE'))\n"
     ]
    }
   ],
   "source": [
    "# Creating a Tuple with nested tuples\n",
    "tup1 = (0, 1, 2, 3)\n",
    "tup2 = ('python', 'HOPE')\n",
    "tup3 = (tup1, tup2)\n",
    "print(tup3)"
   ]
  },
  {
   "cell_type": "code",
   "execution_count": 8,
   "id": "e854e064-335e-469a-93fc-94b268e170b8",
   "metadata": {},
   "outputs": [
    {
     "name": "stdout",
     "output_type": "stream",
     "text": [
      "-Your Name-\n",
      "-Your Age-\n",
      "-Your Profession-\n"
     ]
    }
   ],
   "source": [
    "print (\"-Your Name-\")\n",
    "print(\"-Your Age-\")\n",
    "print(\"-Your Profession-\")\n"
   ]
  },
  {
   "cell_type": "code",
   "execution_count": null,
   "id": "6e20e382-fff1-4e52-a545-88c7f25a4876",
   "metadata": {},
   "outputs": [],
   "source": []
  }
 ],
 "metadata": {
  "kernelspec": {
   "display_name": "Python [conda env:base] *",
   "language": "python",
   "name": "conda-base-py"
  },
  "language_info": {
   "codemirror_mode": {
    "name": "ipython",
    "version": 3
   },
   "file_extension": ".py",
   "mimetype": "text/x-python",
   "name": "python",
   "nbconvert_exporter": "python",
   "pygments_lexer": "ipython3",
   "version": "3.13.5"
  }
 },
 "nbformat": 4,
 "nbformat_minor": 5
}
