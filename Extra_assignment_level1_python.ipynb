{
 "cells": [
  {
   "cell_type": "code",
   "execution_count": 1,
   "id": "1b2265e7-6582-48ca-8b73-c60f151119a9",
   "metadata": {},
   "outputs": [
    {
     "name": "stdout",
     "output_type": "stream",
     "text": [
      "HOPE AI\n"
     ]
    }
   ],
   "source": [
    "print(\"HOPE AI\")\n"
   ]
  },
  {
   "cell_type": "code",
   "execution_count": 2,
   "id": "bb56b906-50d6-4906-934a-19d515c55a54",
   "metadata": {},
   "outputs": [
    {
     "name": "stdin",
     "output_type": "stream",
     "text": [
      "Enter your institute name?: HOPE AI\n"
     ]
    }
   ],
   "source": [
    "inst_name=input(\"Enter your institute name?:\")\n"
   ]
  },
  {
   "cell_type": "code",
   "execution_count": 4,
   "id": "09ec5543-b0c4-42aa-9881-afa29b38acd8",
   "metadata": {},
   "outputs": [
    {
     "name": "stdin",
     "output_type": "stream",
     "text": [
      "Enter your name: Raj\n",
      "Enter your age: 15\n",
      "Enter your school name: Guru School\n",
      "Enter your degree: B.E CSE\n"
     ]
    }
   ],
   "source": [
    "name=input(\"Enter your name:\")\n",
    "age=input (\"Enter your age:\")\n",
    "school=input (\"Enter your school name:\")\n",
    "degree=input (\"Enter your degree:\")"
   ]
  },
  {
   "cell_type": "code",
   "execution_count": 7,
   "id": "2646eebe-0d60-425c-b2a0-6880d23315e9",
   "metadata": {},
   "outputs": [
    {
     "name": "stdout",
     "output_type": "stream",
     "text": [
      "a=43\n",
      "b=34\n",
      "add= 77\n"
     ]
    }
   ],
   "source": [
    "print(\"a=43\")\n",
    "print(\"b=34\")\n",
    "print(\"add=\",43+34)"
   ]
  },
  {
   "cell_type": "code",
   "execution_count": 8,
   "id": "762e025f-ebf9-4323-9fca-d50efb11424a",
   "metadata": {},
   "outputs": [
    {
     "name": "stdout",
     "output_type": "stream",
     "text": [
      "a=43\n",
      "b=34\n",
      "Sub= 9\n"
     ]
    }
   ],
   "source": [
    "print(\"a=43\")\n",
    "print(\"b=34\")\n",
    "print(\"Sub=\",43-34)\n"
   ]
  },
  {
   "cell_type": "code",
   "execution_count": 9,
   "id": "5eff2b66-54f4-4830-929c-76b60f50f42d",
   "metadata": {},
   "outputs": [
    {
     "name": "stdout",
     "output_type": "stream",
     "text": [
      "a=63\n",
      "b=97\n",
      "Mul= 6111\n"
     ]
    }
   ],
   "source": [
    "print(\"a=63\")\n",
    "print(\"b=97\")\n",
    "print(\"Mul=\",63*97)"
   ]
  },
  {
   "cell_type": "code",
   "execution_count": 10,
   "id": "eef6782a-e714-4c92-85f5-4603c9b9051b",
   "metadata": {},
   "outputs": [
    {
     "name": "stdout",
     "output_type": "stream",
     "text": [
      "a=76\n",
      "b=31\n",
      "Float Div= 2.4516129032258065\n"
     ]
    }
   ],
   "source": [
    "print(\"a=76\")\n",
    "print(\"b=31\")\n",
    "print(\"Float Div=\",76/31)"
   ]
  },
  {
   "cell_type": "code",
   "execution_count": 11,
   "id": "505668eb-d449-4ef4-84b9-875ccd446636",
   "metadata": {},
   "outputs": [
    {
     "name": "stdout",
     "output_type": "stream",
     "text": [
      "a=76\n",
      "b=31\n",
      "Floor Div= 2\n"
     ]
    }
   ],
   "source": [
    "print(\"a=76\")\n",
    "print(\"b=31\")\n",
    "print(\"Floor Div=\",int(76/31))\n"
   ]
  },
  {
   "cell_type": "code",
   "execution_count": 12,
   "id": "c537c2bc-769e-4a51-827a-548987b3f463",
   "metadata": {},
   "outputs": [
    {
     "name": "stdout",
     "output_type": "stream",
     "text": [
      "a=76\n",
      "b=31\n",
      "Modulo= 14\n"
     ]
    }
   ],
   "source": [
    "print(\"a=76\")\n",
    "print(\"b=31\")\n",
    "print(\"Modulo=\",76%31)"
   ]
  },
  {
   "cell_type": "code",
   "execution_count": 14,
   "id": "f7fe0b29-c642-43b4-8f2b-cd47db7e32e0",
   "metadata": {},
   "outputs": [
    {
     "name": "stdout",
     "output_type": "stream",
     "text": [
      "a=4\n",
      "b=4\n",
      "Power= 256\n"
     ]
    }
   ],
   "source": [
    "print(\"a=4\")\n",
    "print(\"b=4\")\n",
    "print(\"Power=\",4**4)"
   ]
  },
  {
   "cell_type": "code",
   "execution_count": null,
   "id": "e10aafbf-afc5-4f08-b08c-f50bdbc47c26",
   "metadata": {},
   "outputs": [],
   "source": []
  }
 ],
 "metadata": {
  "kernelspec": {
   "display_name": "Python [conda env:base] *",
   "language": "python",
   "name": "conda-base-py"
  },
  "language_info": {
   "codemirror_mode": {
    "name": "ipython",
    "version": 3
   },
   "file_extension": ".py",
   "mimetype": "text/x-python",
   "name": "python",
   "nbconvert_exporter": "python",
   "pygments_lexer": "ipython3",
   "version": "3.13.5"
  }
 },
 "nbformat": 4,
 "nbformat_minor": 5
}
